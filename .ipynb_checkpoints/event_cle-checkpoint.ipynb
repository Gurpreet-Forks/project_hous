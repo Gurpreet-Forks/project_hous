{
 "cells": [
  {
   "cell_type": "code",
   "execution_count": 1,
   "metadata": {},
   "outputs": [],
   "source": [
    "import os\n",
    "import pandas as pd\n",
    "import shutil"
   ]
  },
  {
   "cell_type": "code",
   "execution_count": 2,
   "metadata": {},
   "outputs": [
    {
     "data": {
      "text/plain": [
       "'C:\\\\Python\\\\Python36-32\\\\examples\\\\area'"
      ]
     },
     "execution_count": 2,
     "metadata": {},
     "output_type": "execute_result"
    }
   ],
   "source": [
    "os.getcwd()"
   ]
  },
  {
   "cell_type": "code",
   "execution_count": 89,
   "metadata": {},
   "outputs": [],
   "source": [
    "data = []\n",
    "for root, dirs, files in os.walk('.', topdown=False):\n",
    "    for name in files:\n",
    "#         print(os.path.join(root, name))\n",
    "#         fullname = os.path.join(root, name)\n",
    "#         data.append(fullname)\n",
    "        data.append(name)"
   ]
  },
  {
   "cell_type": "code",
   "execution_count": 26,
   "metadata": {},
   "outputs": [],
   "source": [
    "df=pd.read_csv('taxtion_Done.csv')"
   ]
  },
  {
   "cell_type": "code",
   "execution_count": 27,
   "metadata": {},
   "outputs": [
    {
     "data": {
      "text/html": [
       "<div>\n",
       "<style scoped>\n",
       "    .dataframe tbody tr th:only-of-type {\n",
       "        vertical-align: middle;\n",
       "    }\n",
       "\n",
       "    .dataframe tbody tr th {\n",
       "        vertical-align: top;\n",
       "    }\n",
       "\n",
       "    .dataframe thead th {\n",
       "        text-align: right;\n",
       "    }\n",
       "</style>\n",
       "<table border=\"1\" class=\"dataframe\">\n",
       "  <thead>\n",
       "    <tr style=\"text-align: right;\">\n",
       "      <th></th>\n",
       "      <th>area</th>\n",
       "      <th>village</th>\n",
       "      <th>median</th>\n",
       "    </tr>\n",
       "  </thead>\n",
       "  <tbody>\n",
       "    <tr>\n",
       "      <th>0</th>\n",
       "      <td>松山區</td>\n",
       "      <td>中崙里</td>\n",
       "      <td>803</td>\n",
       "    </tr>\n",
       "    <tr>\n",
       "      <th>1</th>\n",
       "      <td>松山區</td>\n",
       "      <td>自強里</td>\n",
       "      <td>800</td>\n",
       "    </tr>\n",
       "    <tr>\n",
       "      <th>2</th>\n",
       "      <td>松山區</td>\n",
       "      <td>鵬程里</td>\n",
       "      <td>746</td>\n",
       "    </tr>\n",
       "    <tr>\n",
       "      <th>3</th>\n",
       "      <td>松山區</td>\n",
       "      <td>東榮里</td>\n",
       "      <td>906</td>\n",
       "    </tr>\n",
       "    <tr>\n",
       "      <th>4</th>\n",
       "      <td>松山區</td>\n",
       "      <td>介壽里</td>\n",
       "      <td>856</td>\n",
       "    </tr>\n",
       "  </tbody>\n",
       "</table>\n",
       "</div>"
      ],
      "text/plain": [
       "  area village   median\n",
       "0  松山區      中崙里     803\n",
       "1  松山區      自強里     800\n",
       "2  松山區      鵬程里     746\n",
       "3  松山區      東榮里     906\n",
       "4  松山區      介壽里     856"
      ]
     },
     "execution_count": 27,
     "metadata": {},
     "output_type": "execute_result"
    }
   ],
   "source": [
    "df.head()"
   ]
  },
  {
   "cell_type": "code",
   "execution_count": 30,
   "metadata": {},
   "outputs": [],
   "source": [
    "df.columns = ['area', 'village', 'median']"
   ]
  },
  {
   "cell_type": "code",
   "execution_count": 31,
   "metadata": {},
   "outputs": [],
   "source": [
    "df['address'] = df['area'] + df['village']"
   ]
  },
  {
   "cell_type": "code",
   "execution_count": 32,
   "metadata": {},
   "outputs": [
    {
     "data": {
      "text/html": [
       "<div>\n",
       "<style scoped>\n",
       "    .dataframe tbody tr th:only-of-type {\n",
       "        vertical-align: middle;\n",
       "    }\n",
       "\n",
       "    .dataframe tbody tr th {\n",
       "        vertical-align: top;\n",
       "    }\n",
       "\n",
       "    .dataframe thead th {\n",
       "        text-align: right;\n",
       "    }\n",
       "</style>\n",
       "<table border=\"1\" class=\"dataframe\">\n",
       "  <thead>\n",
       "    <tr style=\"text-align: right;\">\n",
       "      <th></th>\n",
       "      <th>area</th>\n",
       "      <th>village</th>\n",
       "      <th>median</th>\n",
       "      <th>address</th>\n",
       "    </tr>\n",
       "  </thead>\n",
       "  <tbody>\n",
       "    <tr>\n",
       "      <th>0</th>\n",
       "      <td>松山區</td>\n",
       "      <td>中崙里</td>\n",
       "      <td>803</td>\n",
       "      <td>松山區中崙里</td>\n",
       "    </tr>\n",
       "    <tr>\n",
       "      <th>1</th>\n",
       "      <td>松山區</td>\n",
       "      <td>自強里</td>\n",
       "      <td>800</td>\n",
       "      <td>松山區自強里</td>\n",
       "    </tr>\n",
       "    <tr>\n",
       "      <th>2</th>\n",
       "      <td>松山區</td>\n",
       "      <td>鵬程里</td>\n",
       "      <td>746</td>\n",
       "      <td>松山區鵬程里</td>\n",
       "    </tr>\n",
       "    <tr>\n",
       "      <th>3</th>\n",
       "      <td>松山區</td>\n",
       "      <td>東榮里</td>\n",
       "      <td>906</td>\n",
       "      <td>松山區東榮里</td>\n",
       "    </tr>\n",
       "    <tr>\n",
       "      <th>4</th>\n",
       "      <td>松山區</td>\n",
       "      <td>介壽里</td>\n",
       "      <td>856</td>\n",
       "      <td>松山區介壽里</td>\n",
       "    </tr>\n",
       "  </tbody>\n",
       "</table>\n",
       "</div>"
      ],
      "text/plain": [
       "  area village  median address\n",
       "0  松山區     中崙里     803  松山區中崙里\n",
       "1  松山區     自強里     800  松山區自強里\n",
       "2  松山區     鵬程里     746  松山區鵬程里\n",
       "3  松山區     東榮里     906  松山區東榮里\n",
       "4  松山區     介壽里     856  松山區介壽里"
      ]
     },
     "execution_count": 32,
     "metadata": {},
     "output_type": "execute_result"
    }
   ],
   "source": [
    "df.head()"
   ]
  },
  {
   "cell_type": "code",
   "execution_count": 8,
   "metadata": {},
   "outputs": [],
   "source": [
    "from geocodeShort import geoc"
   ]
  },
  {
   "cell_type": "code",
   "execution_count": 13,
   "metadata": {},
   "outputs": [],
   "source": [
    "from python_state import state_code_compute"
   ]
  },
  {
   "cell_type": "code",
   "execution_count": 33,
   "metadata": {},
   "outputs": [
    {
     "name": "stdout",
     "output_type": "stream",
     "text": [
      "the current key number is 0\n",
      "start from 0\n"
     ]
    },
    {
     "name": "stderr",
     "output_type": "stream",
     "text": [
      "C:\\Python\\Python36-32\\examples\\area\\geocodeShort.py:55: SettingWithCopyWarning: \n",
      "A value is trying to be set on a copy of a slice from a DataFrame\n",
      "\n",
      "See the caveats in the documentation: http://pandas.pydata.org/pandas-docs/stable/indexing.html#indexing-view-versus-copy\n",
      "  df['lat'][i] = lat\n",
      "C:\\Python\\Python36-32\\examples\\area\\geocodeShort.py:56: SettingWithCopyWarning: \n",
      "A value is trying to be set on a copy of a slice from a DataFrame\n",
      "\n",
      "See the caveats in the documentation: http://pandas.pydata.org/pandas-docs/stable/indexing.html#indexing-view-versus-copy\n",
      "  df['lon'][i] = lon\n"
     ]
    },
    {
     "name": "stdout",
     "output_type": "stream",
     "text": [
      "0\n",
      "緯度為: 25.0462094\n",
      "經度為: 121.5448501\n"
     ]
    }
   ],
   "source": [
    "df = geoc(df, 0)"
   ]
  },
  {
   "cell_type": "code",
   "execution_count": 34,
   "metadata": {},
   "outputs": [
    {
     "data": {
      "text/html": [
       "<div>\n",
       "<style scoped>\n",
       "    .dataframe tbody tr th:only-of-type {\n",
       "        vertical-align: middle;\n",
       "    }\n",
       "\n",
       "    .dataframe tbody tr th {\n",
       "        vertical-align: top;\n",
       "    }\n",
       "\n",
       "    .dataframe thead th {\n",
       "        text-align: right;\n",
       "    }\n",
       "</style>\n",
       "<table border=\"1\" class=\"dataframe\">\n",
       "  <thead>\n",
       "    <tr style=\"text-align: right;\">\n",
       "      <th></th>\n",
       "      <th>area</th>\n",
       "      <th>village</th>\n",
       "      <th>median</th>\n",
       "      <th>address</th>\n",
       "      <th>lat</th>\n",
       "      <th>lon</th>\n",
       "    </tr>\n",
       "  </thead>\n",
       "  <tbody>\n",
       "    <tr>\n",
       "      <th>0</th>\n",
       "      <td>松山區</td>\n",
       "      <td>中崙里</td>\n",
       "      <td>803</td>\n",
       "      <td>松山區中崙里</td>\n",
       "      <td>25.046209</td>\n",
       "      <td>121.544850</td>\n",
       "    </tr>\n",
       "    <tr>\n",
       "      <th>1</th>\n",
       "      <td>松山區</td>\n",
       "      <td>自強里</td>\n",
       "      <td>800</td>\n",
       "      <td>松山區自強里</td>\n",
       "      <td>25.055099</td>\n",
       "      <td>121.563402</td>\n",
       "    </tr>\n",
       "    <tr>\n",
       "      <th>2</th>\n",
       "      <td>松山區</td>\n",
       "      <td>鵬程里</td>\n",
       "      <td>746</td>\n",
       "      <td>松山區鵬程里</td>\n",
       "      <td>25.055416</td>\n",
       "      <td>121.567683</td>\n",
       "    </tr>\n",
       "    <tr>\n",
       "      <th>3</th>\n",
       "      <td>松山區</td>\n",
       "      <td>東榮里</td>\n",
       "      <td>906</td>\n",
       "      <td>松山區東榮里</td>\n",
       "      <td>25.060422</td>\n",
       "      <td>121.557694</td>\n",
       "    </tr>\n",
       "    <tr>\n",
       "      <th>4</th>\n",
       "      <td>松山區</td>\n",
       "      <td>介壽里</td>\n",
       "      <td>856</td>\n",
       "      <td>松山區介壽里</td>\n",
       "      <td>25.057434</td>\n",
       "      <td>121.559121</td>\n",
       "    </tr>\n",
       "  </tbody>\n",
       "</table>\n",
       "</div>"
      ],
      "text/plain": [
       "  area village  median address        lat         lon\n",
       "0  松山區     中崙里     803  松山區中崙里  25.046209  121.544850\n",
       "1  松山區     自強里     800  松山區自強里  25.055099  121.563402\n",
       "2  松山區     鵬程里     746  松山區鵬程里  25.055416  121.567683\n",
       "3  松山區     東榮里     906  松山區東榮里  25.060422  121.557694\n",
       "4  松山區     介壽里     856  松山區介壽里  25.057434  121.559121"
      ]
     },
     "execution_count": 34,
     "metadata": {},
     "output_type": "execute_result"
    }
   ],
   "source": [
    "df.head()"
   ]
  },
  {
   "cell_type": "code",
   "execution_count": 35,
   "metadata": {},
   "outputs": [],
   "source": [
    "df.drop('address',axis=1,inplace=True)"
   ]
  },
  {
   "cell_type": "code",
   "execution_count": 36,
   "metadata": {},
   "outputs": [],
   "source": [
    "df['state_code'] = df[['lat','lon']].apply(state_code_compute,axis=1)"
   ]
  },
  {
   "cell_type": "code",
   "execution_count": 37,
   "metadata": {},
   "outputs": [
    {
     "name": "stdout",
     "output_type": "stream",
     "text": [
      "457\n",
      "457\n"
     ]
    }
   ],
   "source": [
    "print(len(df))\n",
    "df = df[df['lat'] != 0]\n",
    "print(len(df))"
   ]
  },
  {
   "cell_type": "code",
   "execution_count": 38,
   "metadata": {},
   "outputs": [
    {
     "data": {
      "text/html": [
       "<div>\n",
       "<style scoped>\n",
       "    .dataframe tbody tr th:only-of-type {\n",
       "        vertical-align: middle;\n",
       "    }\n",
       "\n",
       "    .dataframe tbody tr th {\n",
       "        vertical-align: top;\n",
       "    }\n",
       "\n",
       "    .dataframe thead th {\n",
       "        text-align: right;\n",
       "    }\n",
       "</style>\n",
       "<table border=\"1\" class=\"dataframe\">\n",
       "  <thead>\n",
       "    <tr style=\"text-align: right;\">\n",
       "      <th></th>\n",
       "      <th>area</th>\n",
       "      <th>village</th>\n",
       "      <th>median</th>\n",
       "      <th>lat</th>\n",
       "      <th>lon</th>\n",
       "      <th>state_code</th>\n",
       "    </tr>\n",
       "  </thead>\n",
       "  <tbody>\n",
       "    <tr>\n",
       "      <th>0</th>\n",
       "      <td>松山區</td>\n",
       "      <td>中崙里</td>\n",
       "      <td>803</td>\n",
       "      <td>25.046209</td>\n",
       "      <td>121.544850</td>\n",
       "      <td>553826959</td>\n",
       "    </tr>\n",
       "    <tr>\n",
       "      <th>1</th>\n",
       "      <td>松山區</td>\n",
       "      <td>自強里</td>\n",
       "      <td>800</td>\n",
       "      <td>25.055099</td>\n",
       "      <td>121.563402</td>\n",
       "      <td>554026983</td>\n",
       "    </tr>\n",
       "    <tr>\n",
       "      <th>2</th>\n",
       "      <td>松山區</td>\n",
       "      <td>鵬程里</td>\n",
       "      <td>746</td>\n",
       "      <td>25.055416</td>\n",
       "      <td>121.567683</td>\n",
       "      <td>554026984</td>\n",
       "    </tr>\n",
       "    <tr>\n",
       "      <th>3</th>\n",
       "      <td>松山區</td>\n",
       "      <td>東榮里</td>\n",
       "      <td>906</td>\n",
       "      <td>25.060422</td>\n",
       "      <td>121.557694</td>\n",
       "      <td>554226992</td>\n",
       "    </tr>\n",
       "    <tr>\n",
       "      <th>4</th>\n",
       "      <td>松山區</td>\n",
       "      <td>介壽里</td>\n",
       "      <td>856</td>\n",
       "      <td>25.057434</td>\n",
       "      <td>121.559121</td>\n",
       "      <td>554126987</td>\n",
       "    </tr>\n",
       "  </tbody>\n",
       "</table>\n",
       "</div>"
      ],
      "text/plain": [
       "  area village  median        lat         lon state_code\n",
       "0  松山區     中崙里     803  25.046209  121.544850  553826959\n",
       "1  松山區     自強里     800  25.055099  121.563402  554026983\n",
       "2  松山區     鵬程里     746  25.055416  121.567683  554026984\n",
       "3  松山區     東榮里     906  25.060422  121.557694  554226992\n",
       "4  松山區     介壽里     856  25.057434  121.559121  554126987"
      ]
     },
     "execution_count": 38,
     "metadata": {},
     "output_type": "execute_result"
    }
   ],
   "source": [
    "df.head()"
   ]
  },
  {
   "cell_type": "code",
   "execution_count": 21,
   "metadata": {},
   "outputs": [],
   "source": [
    "df.columns = ['year', 'area', 'village', 'master', 'college', 'highSchool',\n",
    "       'secondary', 'total', 'lat', 'lon', 'state_code']"
   ]
  },
  {
   "cell_type": "code",
   "execution_count": 22,
   "metadata": {},
   "outputs": [],
   "source": [
    "df['master'] =  df['master'] / df['total']\n",
    "df['college'] =  df['college'] / df['total']\n",
    "df['highSchool'] =  df['highSchool'] / df['total']\n",
    "df['secondary'] =  df['secondary'] / df['total']"
   ]
  },
  {
   "cell_type": "code",
   "execution_count": 23,
   "metadata": {},
   "outputs": [
    {
     "data": {
      "text/html": [
       "<div>\n",
       "<style scoped>\n",
       "    .dataframe tbody tr th:only-of-type {\n",
       "        vertical-align: middle;\n",
       "    }\n",
       "\n",
       "    .dataframe tbody tr th {\n",
       "        vertical-align: top;\n",
       "    }\n",
       "\n",
       "    .dataframe thead th {\n",
       "        text-align: right;\n",
       "    }\n",
       "</style>\n",
       "<table border=\"1\" class=\"dataframe\">\n",
       "  <thead>\n",
       "    <tr style=\"text-align: right;\">\n",
       "      <th></th>\n",
       "      <th>year</th>\n",
       "      <th>area</th>\n",
       "      <th>village</th>\n",
       "      <th>master</th>\n",
       "      <th>college</th>\n",
       "      <th>highSchool</th>\n",
       "      <th>secondary</th>\n",
       "      <th>total</th>\n",
       "      <th>lat</th>\n",
       "      <th>lon</th>\n",
       "      <th>state_code</th>\n",
       "    </tr>\n",
       "  </thead>\n",
       "  <tbody>\n",
       "    <tr>\n",
       "      <th>0</th>\n",
       "      <td>106</td>\n",
       "      <td>松山區</td>\n",
       "      <td>莊敬里</td>\n",
       "      <td>0.081176</td>\n",
       "      <td>0.289560</td>\n",
       "      <td>0.456843</td>\n",
       "      <td>0.172421</td>\n",
       "      <td>4866</td>\n",
       "      <td>25.072157</td>\n",
       "      <td>121.566969</td>\n",
       "      <td>554427016</td>\n",
       "    </tr>\n",
       "    <tr>\n",
       "      <th>1</th>\n",
       "      <td>106</td>\n",
       "      <td>松山區</td>\n",
       "      <td>東榮里</td>\n",
       "      <td>0.158182</td>\n",
       "      <td>0.387064</td>\n",
       "      <td>0.384340</td>\n",
       "      <td>0.070414</td>\n",
       "      <td>6973</td>\n",
       "      <td>25.060422</td>\n",
       "      <td>121.557694</td>\n",
       "      <td>554226992</td>\n",
       "    </tr>\n",
       "    <tr>\n",
       "      <th>2</th>\n",
       "      <td>106</td>\n",
       "      <td>松山區</td>\n",
       "      <td>三民里</td>\n",
       "      <td>0.134777</td>\n",
       "      <td>0.383161</td>\n",
       "      <td>0.392696</td>\n",
       "      <td>0.089367</td>\n",
       "      <td>6188</td>\n",
       "      <td>25.059660</td>\n",
       "      <td>121.562332</td>\n",
       "      <td>554126992</td>\n",
       "    </tr>\n",
       "    <tr>\n",
       "      <th>3</th>\n",
       "      <td>106</td>\n",
       "      <td>松山區</td>\n",
       "      <td>新益里</td>\n",
       "      <td>0.103236</td>\n",
       "      <td>0.324120</td>\n",
       "      <td>0.437751</td>\n",
       "      <td>0.134893</td>\n",
       "      <td>4233</td>\n",
       "      <td>25.062045</td>\n",
       "      <td>121.567683</td>\n",
       "      <td>554226998</td>\n",
       "    </tr>\n",
       "    <tr>\n",
       "      <th>4</th>\n",
       "      <td>106</td>\n",
       "      <td>松山區</td>\n",
       "      <td>富錦里</td>\n",
       "      <td>0.128194</td>\n",
       "      <td>0.364991</td>\n",
       "      <td>0.403961</td>\n",
       "      <td>0.102853</td>\n",
       "      <td>4696</td>\n",
       "      <td>25.060066</td>\n",
       "      <td>121.564829</td>\n",
       "      <td>554126993</td>\n",
       "    </tr>\n",
       "  </tbody>\n",
       "</table>\n",
       "</div>"
      ],
      "text/plain": [
       "   year area village    master   college  highSchool  secondary  total  \\\n",
       "0   106  松山區     莊敬里  0.081176  0.289560    0.456843   0.172421   4866   \n",
       "1   106  松山區     東榮里  0.158182  0.387064    0.384340   0.070414   6973   \n",
       "2   106  松山區     三民里  0.134777  0.383161    0.392696   0.089367   6188   \n",
       "3   106  松山區     新益里  0.103236  0.324120    0.437751   0.134893   4233   \n",
       "4   106  松山區     富錦里  0.128194  0.364991    0.403961   0.102853   4696   \n",
       "\n",
       "         lat         lon state_code  \n",
       "0  25.072157  121.566969  554427016  \n",
       "1  25.060422  121.557694  554226992  \n",
       "2  25.059660  121.562332  554126992  \n",
       "3  25.062045  121.567683  554226998  \n",
       "4  25.060066  121.564829  554126993  "
      ]
     },
     "execution_count": 23,
     "metadata": {},
     "output_type": "execute_result"
    }
   ],
   "source": [
    "df.head()"
   ]
  },
  {
   "cell_type": "code",
   "execution_count": 39,
   "metadata": {},
   "outputs": [],
   "source": [
    "df.to_csv('taxtion_done.csv',index=False)"
   ]
  },
  {
   "cell_type": "code",
   "execution_count": 1,
   "metadata": {},
   "outputs": [],
   "source": [
    "t = {'a':1,'b':2,'c':3}"
   ]
  },
  {
   "cell_type": "code",
   "execution_count": null,
   "metadata": {},
   "outputs": [],
   "source": [
    "t['a']"
   ]
  }
 ],
 "metadata": {
  "kernelspec": {
   "display_name": "Python 3",
   "language": "python",
   "name": "python3"
  },
  "language_info": {
   "codemirror_mode": {
    "name": "ipython",
    "version": 3
   },
   "file_extension": ".py",
   "mimetype": "text/x-python",
   "name": "python",
   "nbconvert_exporter": "python",
   "pygments_lexer": "ipython3",
   "version": "3.6.4"
  }
 },
 "nbformat": 4,
 "nbformat_minor": 2
}
